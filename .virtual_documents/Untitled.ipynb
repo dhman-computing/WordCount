file = open("texts/test.txt", 'r')


for i in range(10):
    print(file.readlines())
